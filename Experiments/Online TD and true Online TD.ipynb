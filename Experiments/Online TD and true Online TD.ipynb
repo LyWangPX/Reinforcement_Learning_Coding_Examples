{
 "cells": [
  {
   "cell_type": "code",
   "execution_count": 16,
   "metadata": {
    "collapsed": true
   },
   "outputs": [],
   "source": [
    "import numpy as np\n",
    "\n",
    "# Define state 1, 2, 3 ,4 ,5... 19 as normal state with one-hot encoding\n",
    "# state 0 and state 20 share the same zero feature vectors.\n",
    "\n",
    "def feature_map(state):\n",
    "    zero_model = [0]*19\n",
    "    zero_model[state-1] = 1\n",
    "    zero_model = np.array(zero_model)\n",
    "    zero_model.resize((19,1))\n",
    "    return np.array(zero_model)\n",
    "\n",
    "# create a hash table to quickly draw features\n",
    "feature_hash = {0: np.zeros((19,1)),\n",
    "                20: np.zeros((19,1))}\n",
    "for state in range(1,20):\n",
    "    feature_hash[state] = feature_map(state)\n"
   ]
  },
  {
   "cell_type": "code",
   "execution_count": 21,
   "outputs": [],
   "source": [
    "history = []\n",
    "for episode in range(100):\n",
    "    local = [10]\n",
    "    state = 10\n",
    "    while True:\n",
    "        if np.random.random() > 0.5:\n",
    "            state += 1\n",
    "        else:\n",
    "            state -= 1\n",
    "        local.append(state)\n",
    "        if state == 0 or state == 20:\n",
    "            history.append(local)\n",
    "            break"
   ],
   "metadata": {
    "collapsed": false,
    "pycharm": {
     "name": "#%%\n"
    }
   }
  },
  {
   "cell_type": "code",
   "execution_count": 19,
   "outputs": [
    {
     "data": {
      "text/plain": "array([[0],\n       [0],\n       [0],\n       [0],\n       [0],\n       [0],\n       [0],\n       [0],\n       [0],\n       [0],\n       [0],\n       [0],\n       [0],\n       [0],\n       [0],\n       [0],\n       [0],\n       [0],\n       [1]])"
     },
     "execution_count": 19,
     "metadata": {},
     "output_type": "execute_result"
    }
   ],
   "source": [
    "# hand pick the hyper parameters\n",
    "alpha = 0.4\n",
    "gamma = 0.8\n",
    "_lambda = 0.9\n",
    "\n",
    "# set all ones as initialization\n",
    "w_last_episode = np.ones((19,1))\n",
    "w= {}\n",
    "for hist in history:\n",
    "    for h in range(1, 100000):\n",
    "        for t in range(h):\n",
    "            w[(h,0)] = w_last_episode\n",
    "            w[(h,t)] = w[(h,t-1)] + alpha*[G(0,2,w[(h,t-1)],hist) - w[(h,t-1)].T@feature_hash[S]]\n"
   ],
   "metadata": {
    "collapsed": false,
    "pycharm": {
     "name": "#%%\n"
    }
   }
  },
  {
   "cell_type": "code",
   "execution_count": null,
   "outputs": [],
   "source": [
    "\n"
   ],
   "metadata": {
    "collapsed": false,
    "pycharm": {
     "name": "#%%\n"
    }
   }
  }
 ],
 "metadata": {
  "kernelspec": {
   "display_name": "Python 3",
   "language": "python",
   "name": "python3"
  },
  "language_info": {
   "codemirror_mode": {
    "name": "ipython",
    "version": 2
   },
   "file_extension": ".py",
   "mimetype": "text/x-python",
   "name": "python",
   "nbconvert_exporter": "python",
   "pygments_lexer": "ipython2",
   "version": "2.7.6"
  }
 },
 "nbformat": 4,
 "nbformat_minor": 0
}