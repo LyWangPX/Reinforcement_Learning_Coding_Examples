{
 "cells": [
  {
   "cell_type": "code",
   "execution_count": 1,
   "metadata": {
    "collapsed": true
   },
   "outputs": [],
   "source": [
    "import numpy as np\n",
    "\n",
    "# Define state 1, 2, 3 ,4 ,5... 19 as normal state with one-hot encoding\n",
    "# state 0 and state 20 share the same zero feature vectors.\n",
    "\n",
    "def feature_map(state):\n",
    "    zero_model = [0]*19\n",
    "    zero_model[state-1] = 1\n",
    "    zero_model = np.array(zero_model)\n",
    "    zero_model.resize((19,1))\n",
    "    return np.array(zero_model)\n",
    "\n",
    "# create a hash table to quickly draw features\n",
    "feature_hash = {0: np.zeros((19,1)),\n",
    "                20: np.zeros((19,1))}\n",
    "for state in range(1,20):\n",
    "    feature_hash[state] = feature_map(state)\n"
   ]
  },
  {
   "cell_type": "code",
   "execution_count": 31,
   "outputs": [],
   "source": [
    "history = []\n",
    "for episode in range(100):\n",
    "    local = [10]\n",
    "    state = 10\n",
    "    while True:\n",
    "        if np.random.random() > 0.5:\n",
    "            state += 1\n",
    "        else:\n",
    "            state -= 1\n",
    "        local.append(state)\n",
    "        if state == 0 or state == 20:\n",
    "            history.append(local)\n",
    "            break"
   ],
   "metadata": {
    "collapsed": false,
    "pycharm": {
     "name": "#%%\n"
    }
   }
  },
  {
   "cell_type": "code",
   "execution_count": 32,
   "outputs": [
    {
     "name": "stdout",
     "output_type": "stream",
     "text": [
      "processing episode 99 horizon 31\r"
     ]
    }
   ],
   "source": [
    "# hand pick the hyper parameters\n",
    "alpha = 0.4\n",
    "gamma = 0.8\n",
    "_lambda = 0.9\n",
    "\n",
    "# set all ones as initialization\n",
    "w_last_episode = np.ones((19,1))\n",
    "w_last_round = np.ones((19,1))\n",
    "w_forwad = {}\n",
    "def n_step_G(t, h, w, hist):\n",
    "    if h == len(hist):\n",
    "        # v(T) == 0; reward == 1\n",
    "        if hist[-1] == 20:\n",
    "            return gamma**(h-t-1)\n",
    "        else:\n",
    "            return 0\n",
    "    else:\n",
    "        # reward == 0; \n",
    "        return gamma**(h-t)*(w.T@feature_hash[hist[h-1]])\n",
    "    \n",
    "def lambda_G(t,h,w,hist):\n",
    "    first_term = np.sum([_lambda**(n-1)*n_step_G(t,t+n,w,hist) for n in range(1, h-t)])\n",
    "    return (1-_lambda)*first_term + _lambda**(h-t-1)*n_step_G(t,h,w,hist)\n",
    "        \n",
    "for i,hist in enumerate(history):\n",
    "    for h in range(1, len(hist)+1):\n",
    "        print(f'processing episode {i} horizon {h}', end = '\\r')\n",
    "        w_old = w_last_episode\n",
    "        for t in range(1,h+1):\n",
    "            w = w_old + alpha*(lambda_G(t-1,h,w_last_round,hist) - w_old.T@feature_hash[hist[t-1]])*feature_hash[hist[t-1]]\n",
    "            w_old = w\n",
    "        else:\n",
    "            w_last_round = w_old\n",
    "    else:\n",
    "        w_forwad[i] = w_old\n",
    "        w_last_episode = w_old\n"
   ],
   "metadata": {
    "collapsed": false,
    "pycharm": {
     "name": "#%%\n"
    }
   }
  },
  {
   "cell_type": "code",
   "execution_count": 34,
   "outputs": [],
   "source": [
    "w_online = {}\n",
    "w_2 = np.ones((19,1))\n",
    "for episode, hist in enumerate(history):\n",
    "    z = np.zeros((19,1))\n",
    "    V_old = 0\n",
    "    for i, state in enumerate(hist):\n",
    "        if i == len(hist)-2:\n",
    "            if hist[i+1] == 20:\n",
    "                R = 1\n",
    "            else:\n",
    "                R = 0\n",
    "            done = True\n",
    "        else:\n",
    "            R = 0\n",
    "            done = False\n",
    "        V = w_2.T@feature_hash[state]\n",
    "        V_prime = w_2.T@feature_hash[hist[i+1]]\n",
    "        delta = R + gamma*V_prime - V\n",
    "        z = _lambda*gamma*z + (1-alpha*gamma*_lambda*z.T@feature_hash[state])*feature_hash[state]\n",
    "        w_2 = w_2 + alpha*(delta + V - V_old)*z - alpha*(V-V_old)*feature_hash[state]\n",
    "        V_old = V_prime\n",
    "        if done:\n",
    "            w_online[episode] = w_2\n",
    "            break"
   ],
   "metadata": {
    "collapsed": false,
    "pycharm": {
     "name": "#%%\n"
    }
   }
  },
  {
   "cell_type": "code",
   "execution_count": 40,
   "outputs": [
    {
     "data": {
      "text/plain": "array([[1.31798012e-08],\n       [4.68699804e-08],\n       [6.16496987e-07],\n       [7.95557010e-06],\n       [1.70280678e-05],\n       [1.58795234e-05],\n       [3.21303608e-05],\n       [3.03446508e-05],\n       [2.27576764e-05],\n       [1.70084391e-05],\n       [7.81754987e-05],\n       [1.97712954e-03],\n       [4.46737307e-03],\n       [7.13202019e-03],\n       [1.74412455e-02],\n       [7.50803351e-02],\n       [2.39496217e-01],\n       [4.09064097e-01],\n       [6.29284125e-01]])"
     },
     "execution_count": 40,
     "metadata": {},
     "output_type": "execute_result"
    }
   ],
   "source": [
    "w_forwad[50]"
   ],
   "metadata": {
    "collapsed": false,
    "pycharm": {
     "name": "#%%\n"
    }
   }
  },
  {
   "cell_type": "code",
   "execution_count": 41,
   "outputs": [
    {
     "data": {
      "text/plain": "array([[6.87564707e-09],\n       [2.30857761e-08],\n       [1.55508184e-07],\n       [2.20265592e-06],\n       [3.27813400e-05],\n       [4.05292711e-05],\n       [1.09738951e-04],\n       [1.80328232e-04],\n       [2.70760775e-04],\n       [2.59699617e-04],\n       [5.85462425e-04],\n       [8.92532966e-03],\n       [1.99593578e-02],\n       [1.52580817e-02],\n       [3.64472068e-02],\n       [1.40501042e-01],\n       [3.56237306e-01],\n       [5.67114740e-01],\n       [8.31488236e-01]])"
     },
     "execution_count": 41,
     "metadata": {},
     "output_type": "execute_result"
    }
   ],
   "source": [
    "w_online[50]"
   ],
   "metadata": {
    "collapsed": false,
    "pycharm": {
     "name": "#%%\n"
    }
   }
  },
  {
   "cell_type": "code",
   "execution_count": null,
   "outputs": [],
   "source": [
    "\n"
   ],
   "metadata": {
    "collapsed": false,
    "pycharm": {
     "name": "#%%\n"
    }
   }
  }
 ],
 "metadata": {
  "kernelspec": {
   "display_name": "Python 3",
   "language": "python",
   "name": "python3"
  },
  "language_info": {
   "codemirror_mode": {
    "name": "ipython",
    "version": 2
   },
   "file_extension": ".py",
   "mimetype": "text/x-python",
   "name": "python",
   "nbconvert_exporter": "python",
   "pygments_lexer": "ipython2",
   "version": "2.7.6"
  }
 },
 "nbformat": 4,
 "nbformat_minor": 0
}