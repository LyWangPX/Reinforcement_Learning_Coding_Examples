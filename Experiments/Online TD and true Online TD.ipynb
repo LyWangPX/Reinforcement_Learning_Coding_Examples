{
 "cells": [
  {
   "cell_type": "code",
   "execution_count": 1,
   "metadata": {
    "collapsed": true
   },
   "outputs": [],
   "source": [
    "import numpy as np\n",
    "\n",
    "# Define state 1, 2, 3 ,4 ,5... 19 as normal state with one-hot encoding\n",
    "# state 0 and state 20 share the same zero feature vectors.\n",
    "\n",
    "def feature_map(state):\n",
    "    zero_model = [0]*19\n",
    "    zero_model[state-1] = 1\n",
    "    zero_model = np.array(zero_model)\n",
    "    zero_model.resize((19,1))\n",
    "    return np.array(zero_model)\n",
    "\n",
    "# create a hash table to quickly draw features\n",
    "feature_hash = {0: np.zeros((19,1)),\n",
    "                20: np.zeros((19,1))}\n",
    "for state in range(1,20):\n",
    "    feature_hash[state] = feature_map(state)\n"
   ]
  },
  {
   "cell_type": "code",
   "execution_count": 65,
   "outputs": [],
   "source": [
    "history = []\n",
    "for episode in range(2):\n",
    "    local = [10]\n",
    "    state = 10\n",
    "    while True:\n",
    "        if np.random.random() > 0.5:\n",
    "            state += 1\n",
    "        else:\n",
    "            state -= 1\n",
    "        local.append(state)\n",
    "        if state == 0 or state == 20:\n",
    "            history.append(local)\n",
    "            break"
   ],
   "metadata": {
    "collapsed": false,
    "pycharm": {
     "name": "#%%\n"
    }
   }
  },
  {
   "cell_type": "code",
   "execution_count": 66,
   "outputs": [
    {
     "name": "stdout",
     "output_type": "stream",
     "text": [
      "processing episode 1 horizon 245\r"
     ]
    }
   ],
   "source": [
    "# hand pick the hyper parameters\n",
    "alpha = 0.4\n",
    "gamma = 0.8\n",
    "_lambda = 0.9\n",
    "\n",
    "# set all ones as initialization\n",
    "w_last_episode = np.ones((19,1))\n",
    "w_last_round = np.ones((19,1))\n",
    "w_forward = {}\n",
    "def n_step_G(t, h, w, hist):\n",
    "    if h == len(hist):\n",
    "        # v(T) == 0; reward == 1\n",
    "        if hist[-1] == 20:\n",
    "            return gamma**(h-t-1)\n",
    "        else:\n",
    "            return 0\n",
    "    else:\n",
    "        # reward == 0; \n",
    "        return gamma**(h-t)*(w.T@feature_hash[hist[h-1]])\n",
    "    \n",
    "def lambda_G(t,h,hist):\n",
    "    first_term = np.sum([_lambda**(n-1)*n_step_G(t,t+n,w_dict[n-1],hist) for n in range(1, h-t)])\n",
    "    return (1-_lambda)*first_term + _lambda**(h-t-1)*n_step_G(t,h,w_dict[h-1],hist)\n",
    "        \n",
    "for i,hist in enumerate(history):\n",
    "    w_dict = {0:w_last_episode}\n",
    "    for h in range(1, len(hist)+1):\n",
    "        print(f'processing episode {i} horizon {h}', end = '\\r')\n",
    "        w_old = w_last_episode\n",
    "        for t in range(1,h+1):\n",
    "            w = w_old + alpha*(lambda_G(t-1,h,hist) - w_old.T@feature_hash[hist[t-1]])*feature_hash[hist[t-1]]\n",
    "            w_old = w\n",
    "        else:\n",
    "            w_dict[h] = w_old\n",
    "    else:\n",
    "        w_forward[i] = w_old\n",
    "        w_last_episode = w_old\n"
   ],
   "metadata": {
    "collapsed": false,
    "pycharm": {
     "name": "#%%\n"
    }
   }
  },
  {
   "cell_type": "code",
   "execution_count": 67,
   "outputs": [],
   "source": [
    "w_online = {}\n",
    "w_2 = np.ones((19,1))\n",
    "for episode, hist in enumerate(history):\n",
    "    z = np.zeros((19,1))\n",
    "    V_old = 0\n",
    "    for i, state in enumerate(hist):\n",
    "        if i == len(hist)-2:\n",
    "            if hist[i+1] == 20:\n",
    "                R = 1\n",
    "            else:\n",
    "                R = 0\n",
    "            done = True\n",
    "        else:\n",
    "            R = 0\n",
    "            done = False\n",
    "        V = w_2.T@feature_hash[state]\n",
    "        V_prime = w_2.T@feature_hash[hist[i+1]]\n",
    "        delta = R + gamma*V_prime - V\n",
    "        z = _lambda*gamma*z + (1-alpha*gamma*_lambda*z.T@feature_hash[state])*feature_hash[state]\n",
    "        w_2 = w_2 + alpha*(delta + V - V_old)*z - alpha*(V-V_old)*feature_hash[state]\n",
    "        V_old = V_prime\n",
    "        if done:\n",
    "            w_online[episode] = w_2\n",
    "            break"
   ],
   "metadata": {
    "collapsed": false,
    "pycharm": {
     "name": "#%%\n"
    }
   }
  },
  {
   "cell_type": "code",
   "execution_count": 70,
   "outputs": [
    {
     "data": {
      "text/plain": "array([[1.        ],\n       [1.        ],\n       [1.        ],\n       [1.        ],\n       [1.        ],\n       [1.        ],\n       [0.53231318],\n       [0.32852723],\n       [0.27689236],\n       [0.28178901],\n       [0.2804106 ],\n       [0.27976137],\n       [0.2788142 ],\n       [0.27958496],\n       [0.28473191],\n       [0.29893919],\n       [0.36824546],\n       [0.55494604],\n       [0.8125568 ]])"
     },
     "execution_count": 70,
     "metadata": {},
     "output_type": "execute_result"
    }
   ],
   "source": [
    "w_forward[0]"
   ],
   "metadata": {
    "collapsed": false,
    "pycharm": {
     "name": "#%%\n"
    }
   }
  },
  {
   "cell_type": "code",
   "execution_count": 71,
   "outputs": [
    {
     "data": {
      "text/plain": "array([[1.        ],\n       [1.        ],\n       [1.        ],\n       [1.        ],\n       [1.        ],\n       [1.        ],\n       [0.4232541 ],\n       [0.15123449],\n       [0.02727636],\n       [0.01142531],\n       [0.00900136],\n       [0.01016122],\n       [0.01274722],\n       [0.01743689],\n       [0.04539897],\n       [0.12147425],\n       [0.28585104],\n       [0.58749665],\n       [0.90724135]])"
     },
     "execution_count": 71,
     "metadata": {},
     "output_type": "execute_result"
    }
   ],
   "source": [
    "w_online[0]"
   ],
   "metadata": {
    "collapsed": false,
    "pycharm": {
     "name": "#%%\n"
    }
   }
  },
  {
   "cell_type": "code",
   "execution_count": null,
   "outputs": [],
   "source": [
    "\n"
   ],
   "metadata": {
    "collapsed": false,
    "pycharm": {
     "name": "#%%\n"
    }
   }
  }
 ],
 "metadata": {
  "kernelspec": {
   "display_name": "Python 3",
   "language": "python",
   "name": "python3"
  },
  "language_info": {
   "codemirror_mode": {
    "name": "ipython",
    "version": 2
   },
   "file_extension": ".py",
   "mimetype": "text/x-python",
   "name": "python",
   "nbconvert_exporter": "python",
   "pygments_lexer": "ipython2",
   "version": "2.7.6"
  }
 },
 "nbformat": 4,
 "nbformat_minor": 0
}