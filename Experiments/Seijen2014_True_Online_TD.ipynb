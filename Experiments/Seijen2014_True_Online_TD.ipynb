{
 "cells": [
  {
   "cell_type": "code",
   "execution_count": 1,
   "metadata": {
    "collapsed": true
   },
   "outputs": [],
   "source": [
    "import numpy as np\n",
    "\n",
    "state_map = {\n",
    "   'A':[('B', -1), ('C', 1), ('D',-1)],\n",
    "   'B':[('E', 1), ('T', 1)],\n",
    "   'C':[('B', 1), ('D', 1), ('T', 1)],\n",
    "   'D':[('F', 1), ('T', 1)],\n",
    "   'E':[('T', 1)],\n",
    "   'F':[('T', 1)]\n",
    "}\n",
    "\n",
    "feature_map = {\n",
    "   'A':np.array([[1,0,0,0,0,0]]),\n",
    "   'B':np.array([[0,1,0,0,0,0]]),\n",
    "   'C':np.array([[0,0,1,0,0,0]]),\n",
    "   'D':np.array([[0,0,0,1,0,0]]),\n",
    "   'E':np.array([[0,0,0,0,1,0]]),\n",
    "   'F':np.array([[0,0,0,0,0,1]])\n",
    "}\n",
    "theta_2014 = np.array([[0,0,0,0,0,0]])\n",
    "theta_2016 = np.array([[0,0,0,0,0,0]])"
   ]
  },
  {
   "cell_type": "code",
   "execution_count": null,
   "outputs": [],
   "source": [],
   "metadata": {
    "collapsed": false,
    "pycharm": {
     "name": "#%%\n"
    }
   }
  }
 ],
 "metadata": {
  "kernelspec": {
   "display_name": "Python 3",
   "language": "python",
   "name": "python3"
  },
  "language_info": {
   "codemirror_mode": {
    "name": "ipython",
    "version": 2
   },
   "file_extension": ".py",
   "mimetype": "text/x-python",
   "name": "python",
   "nbconvert_exporter": "python",
   "pygments_lexer": "ipython2",
   "version": "2.7.6"
  }
 },
 "nbformat": 4,
 "nbformat_minor": 0
}