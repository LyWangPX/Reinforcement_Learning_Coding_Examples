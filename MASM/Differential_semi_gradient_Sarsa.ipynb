{
 "cells": [
  {
   "cell_type": "code",
   "execution_count": 83,
   "metadata": {
    "collapsed": true,
    "pycharm": {
     "is_executing": false
    }
   },
   "outputs": [],
   "source": [
    "import numpy as np\n",
    "class State:\n",
    "    def __init__(self, name, value):\n",
    "        self.name = name\n",
    "        self.value = value\n",
    "A = State('A', np.array([[1,0,0]]))\n",
    "B = State('B',np.array([[0,1,0]]))\n",
    "C = State('C',np.array([[0,0,1]]))\n",
    "\n",
    "w = np.random.random((1,3))\n",
    "R = {'A':1, 'B':0, 'C':0}\n",
    "policy = {'A':B, 'B':C, 'C':A}"
   ]
  },
  {
   "cell_type": "code",
   "execution_count": 84,
   "outputs": [
    {
     "name": "stdout",
     "text": [
      "[[4.15223411e-14]]\n",
      "[[1.38777878e-14]]\n",
      "[[-5.54001289e-14]]\n",
      "[[4.15223411e-14]]\n",
      "[[1.38777878e-14]]\n",
      "[[-5.54001289e-14]]\n",
      "[[4.15223411e-14]]\n",
      "[[1.38777878e-14]]\n",
      "[[-5.54001289e-14]]\n",
      "[[4.15223411e-14]]\n",
      "[[1.38777878e-14]]\n",
      "[[-5.54001289e-14]]\n",
      "[[4.15223411e-14]]\n",
      "[[1.38777878e-14]]\n",
      "[[-5.54001289e-14]]\n",
      "[[4.15223411e-14]]\n",
      "[[1.38777878e-14]]\n",
      "[[-5.54001289e-14]]\n",
      "[[4.15223411e-14]]\n",
      "[[1.38777878e-14]]\n",
      "[[-5.54001289e-14]]\n",
      "[[4.15223411e-14]]\n",
      "[[1.38777878e-14]]\n",
      "[[-5.54001289e-14]]\n",
      "[[4.15223411e-14]]\n",
      "[[1.38777878e-14]]\n",
      "[[-5.54001289e-14]]\n",
      "[[4.15223411e-14]]\n",
      "[[1.38777878e-14]]\n"
     ],
     "output_type": "stream"
    }
   ],
   "source": [
    "S = A\n",
    "R_bar = 0\n",
    "limit = 100000\n",
    "for step in range(limit):\n",
    "   S_prime = policy[S.name]\n",
    "   delta = R[S_prime.name] - R_bar + S_prime.value@w.T - S.value@w.T\n",
    "   R_bar += 0.001*delta\n",
    "   w += 0.001*delta*S.value\n",
    "   S = S_prime\n",
    "   if step > limit -30:\n",
    "       print(delta)"
   ],
   "metadata": {
    "collapsed": false,
    "pycharm": {
     "name": "#%%\n",
     "is_executing": false
    }
   }
  },
  {
   "cell_type": "code",
   "execution_count": 85,
   "outputs": [
    {
     "name": "stdout",
     "text": [
      "[array([[0.17260156]]), array([[0.50593489]]), array([[0.83926822]])]\n"
     ],
     "output_type": "stream"
    }
   ],
   "source": [
    "result = [S.value@w.T for S in [A,B,C]]\n",
    "print(result)"
   ],
   "metadata": {
    "collapsed": false,
    "pycharm": {
     "name": "#%%\n",
     "is_executing": false
    }
   }
  },
  {
   "cell_type": "code",
   "execution_count": null,
   "outputs": [],
   "source": [
    "\n"
   ],
   "metadata": {
    "collapsed": false,
    "pycharm": {
     "name": "#%%\n"
    }
   }
  }
 ],
 "metadata": {
  "kernelspec": {
   "display_name": "Python 3",
   "language": "python",
   "name": "python3"
  },
  "language_info": {
   "codemirror_mode": {
    "name": "ipython",
    "version": 2
   },
   "file_extension": ".py",
   "mimetype": "text/x-python",
   "name": "python",
   "nbconvert_exporter": "python",
   "pygments_lexer": "ipython2",
   "version": "2.7.6"
  },
  "pycharm": {
   "stem_cell": {
    "cell_type": "raw",
    "source": [],
    "metadata": {
     "collapsed": false
    }
   }
  }
 },
 "nbformat": 4,
 "nbformat_minor": 0
}