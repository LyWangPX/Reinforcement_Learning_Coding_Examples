{
 "cells": [
  {
   "cell_type": "code",
   "execution_count": 1,
   "metadata": {
    "collapsed": true,
    "pycharm": {
     "is_executing": false
    }
   },
   "outputs": [],
   "source": [
    "import torch\n",
    "import numpy as np\n",
    "import matplotlib.pyplot as plt\n",
    "from torch.nn import Linear\n",
    "import torch.nn.functional as F\n",
    "from collections import deque\n",
    "import random\n",
    "import gym\n",
    "import matplotlib.pyplot as plt\n",
    "from torch.nn import Linear, ReLU\n",
    "from torch.autograd import Variable"
   ]
  },
  {
   "cell_type": "code",
   "execution_count": null,
   "outputs": [],
   "source": [
    "class Seller_Env:\n",
    "    def __init__(self, size_of_list = 10, initial_price = 1000):\n",
    "        self.mu = np.random.randint(initial_price*0.7, initial_price*1.1)\n",
    "        self.days = 0\n",
    "        self.size_of_list = size_of_list\n",
    "        self.item_list = [int(np.random.normal(self.mu, scale = self.mu/10)) for _ in range(self.size_of_list)]\n",
    "        self.baseline = self.item_list.mean()\n",
    "        \n",
    "    def step(self, current_price):\n",
    "        self.days += 1\n",
    "        offer = [int(np.random.normal(self.mu*0.7, scale = self.mu/10)) \n",
    "                 for _ in range(np.random.randint(0, self.size_of_list//2))]\n",
    "        for _ in range(self.size_of_list//2 - len(offer)):\n",
    "            offer.append(0)\n",
    "        if max(offer) > current_price:\n",
    "            return [],True\n",
    "        else:\n",
    "            return offer,False\n",
    "    \n",
    "    def reset(self):\n",
    "        self.days = 0\n",
    "        return self.item_list, \n",
    "        \n",
    "class Seller:\n",
    "    def __init__(self, min_price):\n",
    "        self.min_price = min_price\n",
    "    def model(self):\n",
    "        "
   ],
   "metadata": {
    "collapsed": false,
    "pycharm": {
     "name": "#%%\n"
    }
   }
  }
 ],
 "metadata": {
  "kernelspec": {
   "display_name": "Python 3",
   "language": "python",
   "name": "python3"
  },
  "language_info": {
   "codemirror_mode": {
    "name": "ipython",
    "version": 2
   },
   "file_extension": ".py",
   "mimetype": "text/x-python",
   "name": "python",
   "nbconvert_exporter": "python",
   "pygments_lexer": "ipython2",
   "version": "2.7.6"
  },
  "pycharm": {
   "stem_cell": {
    "cell_type": "raw",
    "source": [],
    "metadata": {
     "collapsed": false
    }
   }
  }
 },
 "nbformat": 4,
 "nbformat_minor": 0
}