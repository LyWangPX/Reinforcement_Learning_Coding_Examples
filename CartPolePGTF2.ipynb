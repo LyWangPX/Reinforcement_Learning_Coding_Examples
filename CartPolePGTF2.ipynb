{
 "nbformat": 4,
 "nbformat_minor": 2,
 "metadata": {
  "language_info": {
   "name": "python",
   "codemirror_mode": {
    "name": "ipython",
    "version": 3
   },
   "version": "3.7.7-final"
  },
  "orig_nbformat": 2,
  "file_extension": ".py",
  "mimetype": "text/x-python",
  "name": "python",
  "npconvert_exporter": "python",
  "pygments_lexer": "ipython3",
  "version": 3,
  "kernelspec": {
   "name": "python3",
   "language": "python",
   "display_name": "Python 3"
  },
  "pycharm": {
   "stem_cell": {
    "cell_type": "raw",
    "source": [],
    "metadata": {
     "collapsed": false
    }
   }
  }
 },
 "cells": [
  {
   "cell_type": "code",
   "execution_count": 8,
   "metadata": {
    "pycharm": {
     "is_executing": false
    }
   },
   "outputs": [],
   "source": [
    "import tensorflow as tf\n",
    "import numpy as np \n",
    "import matplotlib.pyplot as plt\n",
    "import gym\n",
    "from tensorflow.keras.layers import Dense, Activation, BatchNormalization\n",
    "from tensorflow.keras import Model, Sequential\n",
    "from tensorflow.keras.optimizers import SGD, Adam"
   ]
  },
  {
   "cell_type": "markdown",
   "metadata": {},
   "source": [
    "### First, we try a plain REINFORCE method."
   ]
  },
  {
   "cell_type": "code",
   "execution_count": 50,
   "metadata": {
    "pycharm": {
     "is_executing": false
    }
   },
   "outputs": [],
   "source": [
    "env = gym.make('CartPole-v1')\n",
    "EPISODE = 1000\n",
    "GAMMA = 0.99"
   ]
  },
  {
   "cell_type": "code",
   "execution_count": 51,
   "outputs": [],
   "source": [
    "# helper reward function\n",
    "def reward_generator(step, actions):\n",
    "    batch_reward = np.ones((step+1,))\n",
    "    batch_reward[-1] = -100\n",
    "    for i in range(len(batch_reward)-2, -1, -1):\n",
    "        batch_reward[i] += batch_reward[i+1] * GAMMA\n",
    "    batch_reward -= np.mean(batch_reward)\n",
    "    batch_reward /= np.std(batch_reward)\n",
    "    advantages = np.zeros((step+1, 2))\n",
    "    for i in range(step+1):\n",
    "        advantages[i][actions[i]] = batch_reward[i] \n",
    "    return advantages"
   ],
   "metadata": {
    "collapsed": false,
    "pycharm": {
     "name": "#%%\n",
     "is_executing": false
    }
   }
  },
  {
   "cell_type": "code",
   "execution_count": 52,
   "metadata": {
    "pycharm": {
     "is_executing": false
    }
   },
   "outputs": [],
   "source": [
    "model = Sequential([\n",
    "    Dense(24, input_dim = 4, kernel_initializer='glorot_uniform', activation='relu'),\n",
    "    Dense(48, kernel_initializer='glorot_uniform', activation='relu'),\n",
    "    Dense(64,  kernel_initializer='glorot_uniform', activation='relu'),\n",
    "    Dense(2, activation = 'softmax')\n",
    "])\n",
    "model.compile(optimizer = Adam(0.001), loss = 'categorical_crossentropy')\n"
   ]
  },
  {
   "cell_type": "code",
   "execution_count": 53,
   "metadata": {
    "pycharm": {
     "is_executing": false
    }
   },
   "outputs": [
    {
     "name": "stdout",
     "text": [
      "WARNING:tensorflow:Layer dense_54 is casting an input tensor from dtype float64 to the layer's dtype of float32, which is new behavior in TensorFlow 2.  The layer has dtype float32 because it's dtype defaults to floatx.\n",
      "\n",
      "If you intended to run this layer in float32, you can safely ignore this warning. If in doubt, this warning is likely only an issue if you are porting a TensorFlow 1.X model to TensorFlow 2.\n",
      "\n",
      "To change all layers to have dtype float64 by default, call `tf.keras.backend.set_floatx('float64')`. To change just this layer, pass dtype='float64' to the layer constructor. If you are the author of this layer, you can disable autocasting by passing autocast=False to the base Layer constructor.\n",
      "\n",
      "episode 4999, step 8\r"
     ],
     "output_type": "stream"
    },
    {
     "data": {
      "text/plain": "<Figure size 432x288 with 1 Axes>",
      "image/png": "[encoded data removed]"
     },
     "metadata": {
      "needs_background": "light"
     },
     "output_type": "display_data"
    }
   ],
   "source": [
    "observation = env.reset()\n",
    "steps = []\n",
    "for episode in range(5000):\n",
    "    observations = []\n",
    "    actions = []\n",
    "    for step in range(999):\n",
    "        output = model(tf.expand_dims(observation, axis = 0))\n",
    "        action = np.random.choice(2, p = np.array(output[0]))\n",
    "        actions.append(action)\n",
    "        observation, reward, done, info = env.step(action)\n",
    "        observations.append(observation)\n",
    "        if done:\n",
    "            steps.append(step)\n",
    "            print(f'episode {episode}, step {step}',end='\\r')\n",
    "            advantages = reward_generator(step, actions)\n",
    "            model.fit(np.array(observations), advantages, epochs = 1, verbose = 0)\n",
    "            observation = env.reset()\n",
    "            break\n",
    "    plt.plot(steps)"
   ]
  },
  {
   "cell_type": "code",
   "execution_count": 39,
   "metadata": {
    "pycharm": {
     "is_executing": false
    }
   },
   "outputs": [
    {
     "data": {
      "text/plain": "array([[10.46617457,  0.        ],\n       [ 9.5617925 ,  0.        ],\n       [ 8.64827525,  0.        ],\n       [ 7.72553056,  0.        ],\n       [ 6.79346521,  0.        ],\n       [ 5.85198506,  0.        ],\n       [ 4.90099501,  0.        ],\n       [ 3.940399  ,  0.        ],\n       [ 2.9701    ,  0.        ],\n       [ 1.99      ,  0.        ],\n       [ 1.        ,  0.        ]])"
     },
     "metadata": {},
     "output_type": "execute_result",
     "execution_count": 39
    }
   ],
   "source": [
    "reward_generator(10,[0]*11)"
   ]
  },
  {
   "cell_type": "code",
   "execution_count": 48,
   "outputs": [],
   "source": [
    "import sys\n",
    "import gym\n",
    "import pylab\n",
    "import numpy as np\n",
    "from tensorflow.keras.layers import Dense\n",
    "from tensorflow.keras.models import Sequential\n",
    "from tensorflow.keras.optimizers import Adam\n",
    "\n",
    "EPISODES = 1000\n",
    "\n",
    "\n",
    "# This is Policy Gradient agent for the Cartpole\n",
    "# In this example, we use REINFORCE algorithm which uses monte-carlo update rule\n",
    "class REINFORCEAgent:\n",
    "    def __init__(self, state_size, action_size):\n",
    "        # if you want to see Cartpole learning, then change to True\n",
    "        self.render = False\n",
    "        self.load_model = False\n",
    "        # get size of state and action\n",
    "        self.state_size = state_size\n",
    "        self.action_size = action_size\n",
    "\n",
    "        # These are hyper parameters for the Policy Gradient\n",
    "        self.discount_factor = 0.99\n",
    "        self.learning_rate = 0.001\n",
    "        self.hidden1, self.hidden2 = 24, 24\n",
    "\n",
    "        # create model for policy network\n",
    "        self.model = self.build_model()\n",
    "\n",
    "        # lists for the states, actions and rewards\n",
    "        self.states, self.actions, self.rewards = [], [], []\n",
    "\n",
    "        if self.load_model:\n",
    "            self.model.load_weights(\"./save_model/cartpole_reinforce.h5\")\n",
    "\n",
    "    # approximate policy using Neural Network\n",
    "    # state is input and probability of each action is output of network\n",
    "    def build_model(self):\n",
    "        model = Sequential()\n",
    "        model.add(Dense(self.hidden1, input_dim=self.state_size, activation='relu', kernel_initializer='glorot_uniform'))\n",
    "        model.add(Dense(self.hidden2, activation='relu', kernel_initializer='glorot_uniform'))\n",
    "        model.add(Dense(self.action_size, activation='softmax', kernel_initializer='glorot_uniform'))\n",
    "        model.summary()\n",
    "        # Using categorical crossentropy as a loss is a trick to easily\n",
    "        # implement the policy gradient. Categorical cross entropy is defined\n",
    "        # H(p, q) = sum(p_i * log(q_i)). For the action taken, a, you set \n",
    "        # p_a = advantage. q_a is the output of the policy network, which is\n",
    "        # the probability of taking the action a, i.e. policy(s, a). \n",
    "        # All other p_i are zero, thus we have H(p, q) = A * log(policy(s, a))\n",
    "        model.compile(loss=\"categorical_crossentropy\", optimizer=Adam(lr=self.learning_rate))\n",
    "        return model\n",
    "\n",
    "    # using the output of policy network, pick action stochastically\n",
    "    def get_action(self, state):\n",
    "        policy = self.model.predict(state, batch_size=1).flatten()\n",
    "        return np.random.choice(self.action_size, 1, p=policy)[0]\n",
    "\n",
    "    # In Policy Gradient, Q function is not available.\n",
    "    # Instead agent uses sample returns for evaluating policy\n",
    "    def discount_rewards(self, rewards):\n",
    "        discounted_rewards = np.zeros_like(rewards)\n",
    "        running_add = 0\n",
    "        for t in reversed(range(0, len(rewards))):\n",
    "            running_add = running_add * self.discount_factor + rewards[t]\n",
    "            discounted_rewards[t] = running_add\n",
    "        return discounted_rewards\n",
    "\n",
    "    # save <s, a ,r> of each step\n",
    "    def append_sample(self, state, action, reward):\n",
    "        self.states.append(state)\n",
    "        self.rewards.append(reward)\n",
    "        self.actions.append(action)\n",
    "\n",
    "    # update policy network every episode\n",
    "    def train_model(self):\n",
    "        episode_length = len(self.states)\n",
    "        discounted_rewards = self.discount_rewards(self.rewards)\n",
    "        discounted_rewards -= np.mean(discounted_rewards)\n",
    "        discounted_rewards /= np.std(discounted_rewards)\n",
    "        update_inputs = np.zeros((episode_length, self.state_size))\n",
    "        advantages = np.zeros((episode_length, self.action_size))\n",
    "\n",
    "        for i in range(episode_length):\n",
    "            update_inputs[i] = self.states[i]\n",
    "            advantages[i][self.actions[i]] = discounted_rewards[i]\n",
    "        self.model.fit(update_inputs, advantages, epochs=1, verbose=0)\n",
    "        self.states, self.actions, self.rewards = [], [], []\n",
    "\n",
    "def main():\n",
    "    # In case of CartPole-v1, you can play until 500 time step\n",
    "    env = gym.make('CartPole-v0')\n",
    "    # get size of state and action from environment\n",
    "    state_size = env.observation_space.shape[0]\n",
    "    action_size = env.action_space.n\n",
    "\n",
    "    # make REINFORCE agent\n",
    "    agent = REINFORCEAgent(state_size, action_size)\n",
    "\n",
    "    scores, episodes = [], []\n",
    "    steps = []\n",
    "    for e in range(EPISODES):\n",
    "        done = False\n",
    "        score = 0\n",
    "        state = env.reset()\n",
    "        state = np.reshape(state, [1, state_size])\n",
    "\n",
    "        for step in range(200):\n",
    "            if agent.render:\n",
    "                env.render()\n",
    "\n",
    "            # get action for the current state and go one step in environment\n",
    "            action = agent.get_action(state)\n",
    "            next_state, reward, done, info = env.step(action)\n",
    "            next_state = np.reshape(next_state, [1, state_size])\n",
    "            reward = reward if not done or score == 499 else -100\n",
    "            \n",
    "            # save the sample <s, a, r> to the memory\n",
    "            agent.append_sample(state, action, reward)\n",
    "            score += reward\n",
    "            state = next_state\n",
    "\n",
    "            if done:\n",
    "                # every episode, agent learns from sample returns\n",
    "                agent.train_model()\n",
    "                steps.append(step)\n",
    "                # every episode, plot the play time\n",
    "                score = score if score == 500 else score + 100\n",
    "                scores.append(score)\n",
    "                episodes.append(e)\n",
    "                pylab.plot(episodes, scores, 'b')\n",
    "                print(\"episode:\", e, \"  steps\", step, end = '\\r')\n",
    "                # if the mean of scores of last 10 episode is bigger than 490\n",
    "                # stop training\n",
    "                break\n",
    "    plt.plot(steps)"
   ],
   "metadata": {
    "collapsed": false,
    "pycharm": {
     "name": "#%%\n",
     "is_executing": false
    }
   }
  },
  {
   "cell_type": "code",
   "execution_count": 49,
   "outputs": [
    {
     "name": "stdout",
     "text": [
      "Model: \"sequential_17\"\n",
      "_________________________________________________________________\n",
      "Layer (type)                 Output Shape              Param #   \n",
      "=================================================================\n",
      "dense_51 (Dense)             (None, 24)                120       \n",
      "_________________________________________________________________\n",
      "dense_52 (Dense)             (None, 24)                600       \n",
      "_________________________________________________________________\n",
      "dense_53 (Dense)             (None, 2)                 50        \n",
      "=================================================================\n",
      "Total params: 770\n",
      "Trainable params: 770\n",
      "Non-trainable params: 0\n",
      "_________________________________________________________________\n",
      "episode: 999   steps 13\r245   steps 7episode: 247   steps 17episode: 249   steps 8episode: 251   steps 13episode: 253   steps 18episode: 255   steps 7episode: 257   steps 20episode: 259   steps 14episode: 261   steps 9episode: 263   steps 11episode: 265   steps 21episode: 267   steps 13episode: 269   steps 12episode: 271   steps 10episode: 273   steps 17episode: 275   steps 8episode: 277   steps 10episode: 279   steps 17episode: 281   steps 11episode: 283   steps 27episode: 285   steps 8episode: 287   steps 11episode: 289   steps 7episode: 291   steps 10episode: 293   steps 16episode: 295   steps 18episode: 297   steps 13episode: 299   steps 12episode: 301   steps 17episode: 303   steps 11episode: 305   steps 9episode: 307   steps 13episode: 309   steps 11episode: 311   steps 8episode: 313   steps 8episode: 315   steps 13episode: 317   steps 11episode: 319   steps 22episode: 321   steps 9episode: 323   steps 13episode: 325   steps 55episode: 327   steps 11episode: 329   steps 37episode: 331   steps 9episode: 333   steps 11episode: 335   steps 11 336   steps 7episode: 338   steps 10episode: 340   steps 13episode: 342   steps 12episode: 344   steps 8episode: 346   steps 8episode: 348   steps 8episode: 350   steps 14episode: 352   steps 8episode: 354   steps 17episode: 356   steps 17episode: 358   steps 9episode: 360   steps 9episode: 362   steps 14episode: 364   steps 13episode: 366   steps 9episode: 368   steps 10episode: 370   steps 22episode: 372   steps 8episode: 374   steps 17episode: 376   steps 15episode: 378   steps 11episode: 380   steps 24episode: 382   steps 13episode: 384   steps 9episode: 386   steps 16episode: 388   steps 17episode: 390   steps 16episode: 392   steps 9episode: 394   steps 9episode: 396   steps 12episode: 398   steps 29episode: 400   steps 10episode: 402   steps 10episode: 404   steps 16episode: 406   steps 9episode: 408   steps 10episode: 410   steps 17episode: 412   steps 10episode: 415   steps 15episode: 417   steps 11episode: 419   steps 21episode: 421   steps 10episode: 423   steps 9episode: 425   steps 8episode: 427   steps 24episode: 429   steps 15episode: 431   steps 20episode: 433   steps 9episode: 435   steps 9episode: 437   steps 22episode: 439   steps 30episode: 441   steps 26episode: 443   steps 20episode: 445   steps 23episode: 447   steps 9episode: 449   steps 20episode: 451   steps 9episode: 453   steps 15episode: 455   steps 9episode: 457   steps 8episode: 459   steps 13episode: 461   steps 11episode: 463   steps 11episode: 465   steps 19episode: 467   steps 8episode: 469   steps 14episode: 471   steps 13episode: 473   steps 17episode: 475   steps 9episode: 477   steps 10episode: 479   steps 13episode: 481   steps 13episode: 483   steps 9episode: 485   steps 19episode: 487   steps 8episode: 489   steps 11episode: 491   steps 97episode: 494   steps 13episode: 496   steps 16episode: 498   steps 39episode: 500   steps 11episode: 502   steps 12episode: 504   steps 9episode: 506   steps 8episode: 508   steps 97episode: 511   steps 10episode: 513   steps 16episode: 515   steps 12episode: 517   steps 11episode: 519   steps 37episode: 521   steps 7episode: 523   steps 18episode: 525   steps 9episode: 527   steps 9episode: 529   steps 10episode: 531   steps 11episode: 533   steps 8episode: 535   steps 7episode: 537   steps 12episode: 539   steps 23episode: 541   steps 16episode: 543   steps 21episode: 545   steps 49episode: 547   steps 11episode: 549   steps 15episode: 551   steps 27episode: 553   steps 10episode: 555   steps 18episode: 557   steps 17episode: 559   steps 12episode: 561   steps 12episode: 563   steps 16episode: 565   steps 10episode: 567   steps 11episode: 569   steps 9episode: 571   steps 9episode: 573   steps 12episode: 575   steps 14episode: 577   steps 12episode: 579   steps 9episode: 581   steps 10episode: 583   steps 10episode: 585   steps 25episode: 588   steps 10episode: 590   steps 10episode: 592   steps 11episode: 594   steps 14episode: 596   steps 10episode: 598   steps 22episode: 600   steps 9episode: 602   steps 12episode: 604   steps 10episode: 606   steps 12episode: 608   steps 8episode: 610   steps 11episode: 612   steps 11episode: 614   steps 13episode: 616   steps 12episode: 618   steps 13episode: 620   steps 14episode: 622   steps 22episode: 624   steps 17episode: 626   steps 12episode: 628   steps 23episode: 630   steps 9episode: 632   steps 10episode: 634   steps 15episode: 636   steps 11episode: 638   steps 15episode: 640   steps 17episode: 642   steps 11episode: 644   steps 38episode: 646   steps 13episode: 648   steps 11episode: 650   steps 10episode: 652   steps 16episode: 654   steps 9episode: 656   steps 9episode: 658   steps 9episode: 660   steps 13episode: 662   steps 13episode: 664   steps 25episode: 666   steps 36episode: 668   steps 21episode: 670   steps 13episode: 672   steps 11episode: 674   steps 9episode: 676   steps 26episode: 678   steps 11episode: 680   steps 15episode: 682   steps 10episode: 684   steps 9episode: 686   steps 14episode: 688   steps 8episode: 690   steps 22episode: 692   steps 14episode: 694   steps 14episode: 696   steps 13episode: 698   steps 15episode: 700   steps 12episode: 702   steps 10episode: 704   steps 13episode: 706   steps 18episode: 708   steps 8episode: 710   steps 10episode: 712   steps 14episode: 714   steps 27episode: 716   steps 10episode: 719   steps 15episode: 721   steps 17episode: 723   steps 7episode: 725   steps 9episode: 727   steps 10episode: 729   steps 9episode: 731   steps 14episode: 733   steps 11episode: 735   steps 8episode: 737   steps 10episode: 739   steps 13episode: 741   steps 10episode: 743   steps 15episode: 745   steps 29episode: 747   steps 10episode: 749   steps 27episode: 751   steps 12episode: 753   steps 8episode: 755   steps 24episode: 757   steps 11episode: 759   steps 12episode: 761   steps 9episode: 763   steps 12episode: 765   steps 12episode: 767   steps 15episode: 769   steps 13episode: 771   steps 9episode: 773   steps 18episode: 775   steps 14episode: 777   steps 10episode: 779   steps 8episode: 781   steps 8episode: 783   steps 18episode: 785   steps 12episode: 787   steps 13episode: 789   steps 10episode: 791   steps 11episode: 793   steps 11episode: 795   steps 10episode: 797   steps 13episode: 799   steps 11episode: 801   steps 24episode: 803   steps 12episode: 805   steps 17episode: 807   steps 24episode: 809   steps 15episode: 811   steps 11episode: 813   steps 14episode: 815   steps 10episode: 817   steps 13episode: 819   steps 14episode: 821   steps 11episode: 823   steps 20episode: 825   steps 8episode: 827   steps 12episode: 829   steps 9episode: 831   steps 11episode: 833   steps 10episode: 835   steps 11episode: 837   steps 11episode: 839   steps 30episode: 841   steps 10episode: 843   steps 20episode: 845   steps 13episode: 847   steps 15episode: 849   steps 14episode: 851   steps 14episode: 853   steps 10episode: 856   steps 10episode: 858   steps 12episode: 860   steps 10episode: 862   steps 18episode: 864   steps 14episode: 866   steps 18episode: 868   steps 10episode: 870   steps 10episode: 872   steps 23episode: 874   steps 18episode: 876   steps 14episode: 878   steps 9episode: 880   steps 9episode: 882   steps 16episode: 884   steps 18episode: 886   steps 25episode: 888   steps 13episode: 890   steps 13episode: 892   steps 20episode: 894   steps 21episode: 896   steps 16episode: 898   steps 11episode: 900   steps 14episode: 902   steps 15episode: 904   steps 9episode: 906   steps 14episode: 908   steps 9episode: 910   steps 10episode: 912   steps 23episode: 914   steps 16episode: 916   steps 24episode: 918   steps 11episode: 920   steps 9episode: 922   steps 8episode: 924   steps 8episode: 926   steps 10episode: 928   steps 14episode: 930   steps 8episode: 932   steps 23episode: 934   steps 9episode: 936   steps 22episode: 938   steps 10episode: 940   steps 8episode: 942   steps 12episode: 944   steps 11episode: 946   steps 12episode: 948   steps 16episode: 950   steps 14episode: 952   steps 10episode: 954   steps 20episode: 956   steps 9episode: 958   steps 8episode: 960   steps 9episode: 962   steps 23episode: 964   steps 14episode: 966   steps 8episode: 968   steps 15episode: 970   steps 12episode: 972   steps 13episode: 974   steps 14episode: 976   steps 11episode: 978   steps 8episode: 980   steps 8episode: 982   steps 16episode: 984   steps 12episode: 986   steps 10episode: 988   steps 11episode: 990   steps 8episode: 992   steps 8episode: 994   steps 11episode: 996   steps 10episode: 998   steps 10"
     ],
     "output_type": "stream"
    },
    {
     "data": {
      "text/plain": "<Figure size 432x288 with 1 Axes>",
      "image/png": "[encoded data removed]"
     },
     "metadata": {
      "needs_background": "light"
     },
     "output_type": "display_data"
    }
   ],
   "source": [
    "main()"
   ],
   "metadata": {
    "collapsed": false,
    "pycharm": {
     "name": "#%%\n",
     "is_executing": false
    }
   }
  },
  {
   "cell_type": "code",
   "execution_count": null,
   "outputs": [],
   "source": [
    "\n"
   ],
   "metadata": {
    "collapsed": false,
    "pycharm": {
     "name": "#%%\n"
    }
   }
  }
 ]
}